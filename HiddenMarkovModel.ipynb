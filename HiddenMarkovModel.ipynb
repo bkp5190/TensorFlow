{
  "nbformat": 4,
  "nbformat_minor": 0,
  "metadata": {
    "colab": {
      "provenance": [],
      "authorship_tag": "ABX9TyMog8wCNDwpIK6Ux1IPmM75",
      "include_colab_link": true
    },
    "kernelspec": {
      "name": "python3",
      "display_name": "Python 3"
    },
    "language_info": {
      "name": "python"
    }
  },
  "cells": [
    {
      "cell_type": "markdown",
      "metadata": {
        "id": "view-in-github",
        "colab_type": "text"
      },
      "source": [
        "<a href=\"https://colab.research.google.com/github/bkp5190/TensorFlow/blob/main/HiddenMarkovModel.ipynb\" target=\"_parent\"><img src=\"https://colab.research.google.com/assets/colab-badge.svg\" alt=\"Open In Colab\"/></a>"
      ]
    },
    {
      "cell_type": "code",
      "execution_count": 1,
      "metadata": {
        "colab": {
          "base_uri": "https://localhost:8080/"
        },
        "id": "ot2zO7WgCQgv",
        "outputId": "f3a616ec-6093-4ac9-8592-d618d1461fb8"
      },
      "outputs": [
        {
          "output_type": "stream",
          "name": "stdout",
          "text": [
            "Colab only includes TensorFlow 2.x; %tensorflow_version has no effect.\n"
          ]
        }
      ],
      "source": [
        "%tensorflow_version 2.x"
      ]
    },
    {
      "cell_type": "code",
      "source": [
        "import tensorflow_probability as tfp\n",
        "import tensorflow as tf"
      ],
      "metadata": {
        "id": "ptN1tp0CCaWG"
      },
      "execution_count": 2,
      "outputs": []
    },
    {
      "cell_type": "code",
      "source": [
        "tfd = tfp.distributions\n",
        "# defines two states (one for sunny and one for rainy)\n",
        "initial_distribution = tfd.Categorical(probs=[0.2, 0.8])\n",
        "# defines the likelihood for transitioning from one state to the next\n",
        "transition_distribution = tfd.Categorical(probs=[[0.5, 0.5],\n",
        "                                                 [0.2, 0.8]])\n",
        "# defines a normal distribution with mean and std deviation\n",
        "observation_distribution = tfd.Normal(loc=[0., 15.], scale=[5., 10.])\n",
        "# loc is mean and scale is standard deviation\n"
      ],
      "metadata": {
        "id": "j7wTWi9bChe4"
      },
      "execution_count": 10,
      "outputs": []
    },
    {
      "cell_type": "code",
      "source": [
        "# Create Hidden Markov Model\n",
        "model = tfd.HiddenMarkovModel(\n",
        "    initial_distribution=initial_distribution,\n",
        "    transition_distribution=transition_distribution,\n",
        "    observation_distribution=observation_distribution,\n",
        "    num_steps=7)\n",
        "# num_steps is how many days we want to predict"
      ],
      "metadata": {
        "id": "pMDqPzZJEElW"
      },
      "execution_count": 11,
      "outputs": []
    },
    {
      "cell_type": "code",
      "source": [
        "# Find the mean of the model\n",
        "mean = model.mean()\n",
        "\n",
        "# The way to print out model objects in tensorflow within the session\n",
        "with tf.compat.v1.Session() as sess:\n",
        "  print(mean.numpy())\n",
        "\n",
        "# This are the expected temperatures on each day for 7 days"
      ],
      "metadata": {
        "colab": {
          "base_uri": "https://localhost:8080/"
        },
        "id": "v7WONvb4HLZn",
        "outputId": "cd23166e-fb45-49df-c75f-7eb37e309e7d"
      },
      "execution_count": 12,
      "outputs": [
        {
          "output_type": "stream",
          "name": "stdout",
          "text": [
            "[11.999999 11.1      10.830001 10.748999 10.724699 10.71741  10.715222]\n"
          ]
        }
      ]
    }
  ]
}