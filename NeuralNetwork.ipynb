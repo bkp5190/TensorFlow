{
  "nbformat": 4,
  "nbformat_minor": 0,
  "metadata": {
    "colab": {
      "provenance": [],
      "authorship_tag": "ABX9TyMtJTZnu+jIJz3A+huqEGoF",
      "include_colab_link": true
    },
    "kernelspec": {
      "name": "python3",
      "display_name": "Python 3"
    },
    "language_info": {
      "name": "python"
    }
  },
  "cells": [
    {
      "cell_type": "markdown",
      "metadata": {
        "id": "view-in-github",
        "colab_type": "text"
      },
      "source": [
        "<a href=\"https://colab.research.google.com/github/bkp5190/TensorFlow/blob/main/NeuralNetwork.ipynb\" target=\"_parent\"><img src=\"https://colab.research.google.com/assets/colab-badge.svg\" alt=\"Open In Colab\"/></a>"
      ]
    },
    {
      "cell_type": "markdown",
      "source": [
        "# **Neural Networks** \n",
        "\n",
        "*   Each input data is associated with an input \"neuron\"\n",
        "*   There are multiple hidden layers between input and output\n",
        "*   Called hidden because they are not observed\n",
        "*   Output data classification sum is equal to 1\n",
        "*   Gives an overall probability distribution\n",
        "\n"
      ],
      "metadata": {
        "id": "huS9e-WTKJdY"
      }
    },
    {
      "cell_type": "markdown",
      "source": [
        "# **Layers** \n",
        "\n",
        "*   Layers are connected by \"weights\"\n",
        "*   Densely connected layers are when every node is connected to node in previous layer\n",
        "*   Weights are changed and optimized/trained\n",
        "*   Typically wight values are between [0,1]\n",
        "*   Bias is present in previous layer to the one it affects and connects to each neuron in the next layer\n",
        "*   Bias does not take any input and is another trainable parameter\n",
        "*   Bias weights typically 1\n"
      ],
      "metadata": {
        "id": "19TJf45iLJwc"
      }
    },
    {
      "cell_type": "markdown",
      "source": [
        "# **Activation Function**\n",
        "\n",
        "\n",
        "\n",
        "*   Function ran before final output layer to normalize data into some form\n",
        "*   Tanh\n",
        "*   Sigmoid\n",
        "*   Etc.\n",
        "\n",
        "\n",
        "\n"
      ],
      "metadata": {
        "id": "FOhHNGHhMqKf"
      }
    },
    {
      "cell_type": "markdown",
      "source": [
        "# **Loss/Cost Function**\n",
        "\n",
        "*   Calculates how far away given output from network is from expected output\n",
        "*   Mean Squared Error\n",
        "*   Mean Absolute Error\n",
        "*   Hinge Loss\n",
        "\n",
        "\n"
      ],
      "metadata": {
        "id": "3WdnHLaaQ29X"
      }
    },
    {
      "cell_type": "markdown",
      "source": [
        "# **Gradient Descent**\n",
        "\n",
        "\n",
        "\n",
        "*   Algorithm used to find optimal parameters (wieghts and biases for network)\n",
        "*   Optimization by moving towards the steepest descent as defined by the gradient to global minimum\n",
        "*   Gradient is direction we need to move to minimize loss function\n",
        "\n"
      ],
      "metadata": {
        "id": "f_SBKn10Rz61"
      }
    },
    {
      "cell_type": "markdown",
      "source": [
        "# **Backpropagation**\n",
        "\n",
        "*   Stepping back through the neural network after a run through with new values\n",
        "*   Update weights and biases according to the gradient descent algorithm\n",
        "\n"
      ],
      "metadata": {
        "id": "lO7HyWCuTVKF"
      }
    },
    {
      "cell_type": "markdown",
      "source": [
        "# **Optimizer**\n",
        "\n",
        "*   Function that implements the backpropagation algorithm\n",
        "*   Gradient Descent\n",
        "*   Stochastic Gradient Descent\n",
        "*   Mini-Batch Gradient Descent\n",
        "*   Momentum\n",
        "*   Nesterov Accelerated Gradient\n",
        "\n",
        "\n"
      ],
      "metadata": {
        "id": "Q2twmHnWTvtC"
      }
    },
    {
      "cell_type": "code",
      "source": [
        "# Import statements\n",
        "%tensorflow_version 2.x\n",
        "\n",
        "import tensorflow as tf\n",
        "from tensorflow import keras\n",
        "\n",
        "import numpy as np\n",
        "import matplotlib.pyplot as plt"
      ],
      "metadata": {
        "colab": {
          "base_uri": "https://localhost:8080/"
        },
        "id": "rNy_u4WuUQ37",
        "outputId": "17a564b4-b20d-40b5-cba7-6426e482a0aa"
      },
      "execution_count": 2,
      "outputs": [
        {
          "output_type": "stream",
          "name": "stdout",
          "text": [
            "Colab only includes TensorFlow 2.x; %tensorflow_version has no effect.\n"
          ]
        }
      ]
    },
    {
      "cell_type": "code",
      "source": [
        "# Using a fashion dataset provided by keras\n",
        "fashion_mnist = keras.datasets.fashion_mnist\n",
        "\n",
        "# Split data into test/train\n",
        "(train_images, train_labels), (test_images, test_labels) = fashion_mnist.load_data()\n"
      ],
      "metadata": {
        "colab": {
          "base_uri": "https://localhost:8080/"
        },
        "id": "p2Rb9Z2YUyOF",
        "outputId": "99992562-7381-45c0-813b-90ca8ac80142"
      },
      "execution_count": 3,
      "outputs": [
        {
          "output_type": "stream",
          "name": "stdout",
          "text": [
            "Downloading data from https://storage.googleapis.com/tensorflow/tf-keras-datasets/train-labels-idx1-ubyte.gz\n",
            "29515/29515 [==============================] - 0s 0us/step\n",
            "Downloading data from https://storage.googleapis.com/tensorflow/tf-keras-datasets/train-images-idx3-ubyte.gz\n",
            "26421880/26421880 [==============================] - 0s 0us/step\n",
            "Downloading data from https://storage.googleapis.com/tensorflow/tf-keras-datasets/t10k-labels-idx1-ubyte.gz\n",
            "5148/5148 [==============================] - 0s 0us/step\n",
            "Downloading data from https://storage.googleapis.com/tensorflow/tf-keras-datasets/t10k-images-idx3-ubyte.gz\n",
            "4422102/4422102 [==============================] - 0s 0us/step\n"
          ]
        }
      ]
    },
    {
      "cell_type": "code",
      "source": [
        "# 60,000 images for training and 10,000 images for testing\n",
        "train_images.shape\n",
        "test_images.shape"
      ],
      "metadata": {
        "colab": {
          "base_uri": "https://localhost:8080/"
        },
        "id": "z5DtXHFAVVB9",
        "outputId": "ed3f905b-9873-4b20-92f4-3d311f76b1c9"
      },
      "execution_count": 4,
      "outputs": [
        {
          "output_type": "execute_result",
          "data": {
            "text/plain": [
              "(10000, 28, 28)"
            ]
          },
          "metadata": {},
          "execution_count": 4
        }
      ]
    },
    {
      "cell_type": "code",
      "source": [
        "# Represents one pixel which has a value [0, 255] grayscale\n",
        "train_images[0, 23, 23]"
      ],
      "metadata": {
        "colab": {
          "base_uri": "https://localhost:8080/"
        },
        "id": "f7ev7CEkVajU",
        "outputId": "7fc3d7f7-8f2e-446a-ea3d-34be3894369a"
      },
      "execution_count": 5,
      "outputs": [
        {
          "output_type": "execute_result",
          "data": {
            "text/plain": [
              "194"
            ]
          },
          "metadata": {},
          "execution_count": 5
        }
      ]
    },
    {
      "cell_type": "code",
      "source": [
        "# Shows the last 10 labels of the data\n",
        "train_labels[:10]"
      ],
      "metadata": {
        "colab": {
          "base_uri": "https://localhost:8080/"
        },
        "id": "b25wuL2NVzvD",
        "outputId": "0ffd275b-85ab-42a0-cee2-7e5899b72aa9"
      },
      "execution_count": 6,
      "outputs": [
        {
          "output_type": "execute_result",
          "data": {
            "text/plain": [
              "array([9, 0, 0, 3, 0, 2, 7, 2, 5, 5], dtype=uint8)"
            ]
          },
          "metadata": {},
          "execution_count": 6
        }
      ]
    },
    {
      "cell_type": "code",
      "source": [
        "# Since there are 9 labels, we need 9 class names\n",
        "class_names = ['T-shirt/top', 'Trouser', 'Pullover', 'Dress', 'Coat', \n",
        "               'Sandal', 'Shirt', 'Sneaker', 'Bag', 'Ankle boot']"
      ],
      "metadata": {
        "id": "2OB0Zw47WTAm"
      },
      "execution_count": 7,
      "outputs": []
    },
    {
      "cell_type": "code",
      "source": [
        "# Show one of the images\n",
        "plt.figure()\n",
        "plt.imshow(train_images[8])\n",
        "plt.colorbar()\n",
        "plt.grid(False)\n",
        "plt.show()"
      ],
      "metadata": {
        "colab": {
          "base_uri": "https://localhost:8080/",
          "height": 430
        },
        "id": "4PmCJ7LjWs6e",
        "outputId": "4721d886-c41f-4d9c-a615-f13be58f560c"
      },
      "execution_count": 8,
      "outputs": [
        {
          "output_type": "display_data",
          "data": {
            "text/plain": [
              "<Figure size 640x480 with 2 Axes>"
            ],
            "image/png": "[encoded data removed]"
          },
          "metadata": {}
        }
      ]
    },
    {
      "cell_type": "code",
      "source": [
        "# Data preprocessing\n",
        "# Scale all pixels between 0 and 1\n",
        "train_images = train_images / 255.0\n",
        "test_images = test_images / 255.0"
      ],
      "metadata": {
        "id": "7YpCZi-HXMBW"
      },
      "execution_count": 9,
      "outputs": []
    },
    {
      "cell_type": "code",
      "source": [
        "# Building the model\n",
        "model = keras.Sequential([\n",
        "    keras.layers.Flatten(input_shape=(28, 28)),\n",
        "    keras.layers.Dense(128, activation='relu'),\n",
        "    keras.layers.Dense(10, activation='softmax')\n",
        "])"
      ],
      "metadata": {
        "id": "1pEiwvX1XiPt"
      },
      "execution_count": 10,
      "outputs": []
    },
    {
      "cell_type": "code",
      "source": [
        "# Compile the model\n",
        "model.compile(optimizer='adam', # gradient descent algo\n",
        "              loss='sparse_categorical_crossentropy',\n",
        "              metrics=['accuracy']) # output metrics"
      ],
      "metadata": {
        "id": "NAE2dzdZYhat"
      },
      "execution_count": 11,
      "outputs": []
    },
    {
      "cell_type": "code",
      "source": [
        "# Fit the model over 10 epochs with the training data\n",
        "model.fit(train_images, train_labels, epochs=1)"
      ],
      "metadata": {
        "colab": {
          "base_uri": "https://localhost:8080/"
        },
        "id": "hkvUVOXlY2Uf",
        "outputId": "f963ec63-1cfb-47e8-83f6-a11d0b93304b"
      },
      "execution_count": 12,
      "outputs": [
        {
          "output_type": "stream",
          "name": "stdout",
          "text": [
            "1875/1875 [==============================] - 12s 6ms/step - loss: 0.5034 - accuracy: 0.8229\n"
          ]
        },
        {
          "output_type": "execute_result",
          "data": {
            "text/plain": [
              "<keras.callbacks.History at 0x7fdb3160f700>"
            ]
          },
          "metadata": {},
          "execution_count": 12
        }
      ]
    },
    {
      "cell_type": "code",
      "source": [
        "# Test the model on new test data\n",
        "test_loss, test_acc = model.evaluate(test_images, test_labels, verbose=1)\n",
        "\n",
        "print('Test accuracy:', test_acc)\n",
        "# Overfit since the test data accuracy < training data accuracy"
      ],
      "metadata": {
        "colab": {
          "base_uri": "https://localhost:8080/"
        },
        "id": "zK8woLMTZfZd",
        "outputId": "e2fda8d6-9f67-4f2f-9b55-4c74987bb0c7"
      },
      "execution_count": 13,
      "outputs": [
        {
          "output_type": "stream",
          "name": "stdout",
          "text": [
            "313/313 [==============================] - 1s 2ms/step - loss: 0.4448 - accuracy: 0.8387\n",
            "Test accuracy: 0.838699996471405\n"
          ]
        }
      ]
    },
    {
      "cell_type": "code",
      "source": [
        "predictions = model.predict(test_images)\n",
        "print(np.argmax(predictions[2]))\n",
        "plt.figure()\n",
        "plt.imshow(train_images[2])\n",
        "plt.colorbar()\n",
        "plt.grid(False)\n",
        "plt.show()"
      ],
      "metadata": {
        "colab": {
          "base_uri": "https://localhost:8080/",
          "height": 471
        },
        "id": "t3WLzJ3Wa3NP",
        "outputId": "68b28563-7520-4010-aa76-cf46cfc90d70"
      },
      "execution_count": 14,
      "outputs": [
        {
          "output_type": "stream",
          "name": "stdout",
          "text": [
            "313/313 [==============================] - 1s 2ms/step\n",
            "1\n"
          ]
        },
        {
          "output_type": "display_data",
          "data": {
            "text/plain": [
              "<Figure size 640x480 with 2 Axes>"
            ],
            "image/png": "[encoded data removed]"
          },
          "metadata": {}
        }
      ]
    },
    {
      "cell_type": "code",
      "source": [
        "COLOR = 'black'\n",
        "plt.rcParams['text.color'] = COLOR\n",
        "plt.rcParams['axes.labelcolor'] = COLOR\n",
        "\n",
        "def predict(model, image, correct_label):\n",
        "  class_names = ['T-shirt/top', 'Trouser', 'Pullover', 'Dress', 'Coat', \n",
        "                'Sandal', 'Shirt', 'Sneaker', 'Bag', 'Ankle boot']\n",
        "  prediction = model.predict(np.array([image]))\n",
        "  predicted_class = class_names[np.argmax(prediction)]\n",
        "\n",
        "  show_image(image, class_names[correct_label], predicted_class)\n",
        "\n",
        "def show_image(img, label, guess):\n",
        "  plt.figure()\n",
        "  plt.imshow(image, cmap=plt.cm.binary)\n",
        "  plt.title(\"Expected: \" + label)\n",
        "  plt.xlabel(\"Guess: \" + guess)\n",
        "  plt.colorbar()\n",
        "  plt.grid(False)\n",
        "  plt.show()\n",
        "\n",
        "def get_number():\n",
        "  while True:\n",
        "    num = input(\"Pick a number: \")\n",
        "    if num.isdigit():\n",
        "      num = int(num)\n",
        "      if 0 <= num <= 1000:\n",
        "        return int(num)\n",
        "      else:\n",
        "        print(\"Try again\")\n",
        "\n",
        "num = get_number()\n",
        "image = test_images[num]\n",
        "label = test_labels[num]\n",
        "predict(model, image, label)"
      ],
      "metadata": {
        "colab": {
          "base_uri": "https://localhost:8080/",
          "height": 508
        },
        "id": "UBP5Xfubcap4",
        "outputId": "17fcc259-53c5-47e2-bfd7-c057e897fd72"
      },
      "execution_count": 20,
      "outputs": [
        {
          "output_type": "stream",
          "name": "stdout",
          "text": [
            "Pick a number: 40\n",
            "1/1 [==============================] - 0s 21ms/step\n"
          ]
        },
        {
          "output_type": "display_data",
          "data": {
            "text/plain": [
              "<Figure size 640x480 with 2 Axes>"
            ],
            "image/png": "[encoded data removed]"
          },
          "metadata": {}
        }
      ]
    }
  ]
}