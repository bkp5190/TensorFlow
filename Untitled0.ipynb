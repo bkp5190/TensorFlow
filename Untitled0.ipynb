{
  "nbformat": 4,
  "nbformat_minor": 0,
  "metadata": {
    "colab": {
      "provenance": [],
      "authorship_tag": "ABX9TyPaw8fBHcCpdC9KF5fk5zuw",
      "include_colab_link": true
    },
    "kernelspec": {
      "name": "python3",
      "display_name": "Python 3"
    },
    "language_info": {
      "name": "python"
    }
  },
  "cells": [
    {
      "cell_type": "markdown",
      "metadata": {
        "id": "view-in-github",
        "colab_type": "text"
      },
      "source": [
        "<a href=\"https://colab.research.google.com/github/bkp5190/TensorFlow/blob/main/Untitled0.ipynb\" target=\"_parent\"><img src=\"https://colab.research.google.com/assets/colab-badge.svg\" alt=\"Open In Colab\"/></a>"
      ]
    },
    {
      "cell_type": "markdown",
      "source": [
        "# **Neural Networks** \n",
        "\n",
        "*   Each input data is associated with an input \"neuron\"\n",
        "*   There are multiple hidden layers between input and output\n",
        "*   Called hidden because they are not observed\n",
        "*   Output data classification sum is equal to 1\n",
        "*   Gives an overall probability distribution\n",
        "\n"
      ],
      "metadata": {
        "id": "huS9e-WTKJdY"
      }
    },
    {
      "cell_type": "markdown",
      "source": [
        "# **Layers** \n",
        "\n",
        "*   Layers are connected by \"weights\"\n",
        "*   Densely connected layers are when every node is connected to node in previous layer\n",
        "*   Weights are changed and optimized/trained\n",
        "*   Typically wight values are between [0,1]\n",
        "*   Bias is present in previous layer to the one it affects and connects to each neuron in the next layer\n",
        "*   Bias does not take any input and is another trainable parameter\n",
        "*   Bias weights typically 1\n"
      ],
      "metadata": {
        "id": "19TJf45iLJwc"
      }
    },
    {
      "cell_type": "markdown",
      "source": [
        "# **Activation Function**\n",
        "\n",
        "\n",
        "\n",
        "*   Function ran before final output layer to normalize data into some form\n",
        "*   Tanh\n",
        "*   Sigmoid\n",
        "*   Etc.\n",
        "\n",
        "\n",
        "\n"
      ],
      "metadata": {
        "id": "FOhHNGHhMqKf"
      }
    },
    {
      "cell_type": "markdown",
      "source": [
        "# **Loss/Cost Function**\n",
        "\n",
        "*   Calculates how far away given output from network is from expected output\n",
        "*   Mean Squared Error\n",
        "*   Mean Absolute Error\n",
        "*   Hinge Loss\n",
        "\n",
        "\n"
      ],
      "metadata": {
        "id": "3WdnHLaaQ29X"
      }
    },
    {
      "cell_type": "markdown",
      "source": [
        "# **Gradient Descent**\n",
        "\n",
        "\n",
        "\n",
        "*   Algorithm used to find optimal parameters (wieghts and biases for network)\n",
        "*   Optimization by moving towards the steepest descent as defined by the gradient to global minimum\n",
        "*   Gradient is direction we need to move to minimize loss function\n",
        "\n"
      ],
      "metadata": {
        "id": "f_SBKn10Rz61"
      }
    },
    {
      "cell_type": "markdown",
      "source": [
        "# **Backpropagation**\n",
        "\n",
        "*   Stepping back through the neural network after a run through with new values\n",
        "*   Update weights and biases according to the gradient descent algorithm\n",
        "\n"
      ],
      "metadata": {
        "id": "lO7HyWCuTVKF"
      }
    },
    {
      "cell_type": "markdown",
      "source": [
        "# **Optimizer**\n",
        "\n",
        "*   Function that implements the backpropagation algorithm\n",
        "*   Gradient Descent\n",
        "*   Stochastic Gradient Descent\n",
        "*   Mini-Batch Gradient Descent\n",
        "*   Momentum\n",
        "*   Nesterov Accelerated Gradient\n",
        "\n",
        "\n"
      ],
      "metadata": {
        "id": "Q2twmHnWTvtC"
      }
    },
    {
      "cell_type": "code",
      "source": [
        "# Import statements\n",
        "%tensorflow_version 2.x\n",
        "\n",
        "import tensorflow as tf\n",
        "from tensorflow import keras\n",
        "\n",
        "import numpy as np\n",
        "import matplotlib.pyplot as plt"
      ],
      "metadata": {
        "colab": {
          "base_uri": "https://localhost:8080/"
        },
        "id": "rNy_u4WuUQ37",
        "outputId": "95f3c8b8-a78b-49db-c20b-2ae09e4e1b01"
      },
      "execution_count": 1,
      "outputs": [
        {
          "output_type": "stream",
          "name": "stdout",
          "text": [
            "Colab only includes TensorFlow 2.x; %tensorflow_version has no effect.\n"
          ]
        }
      ]
    },
    {
      "cell_type": "code",
      "source": [
        "# Using a fashion dataset provided by keras\n",
        "fashion_mnist = keras.datasets.fashion_mnist\n",
        "\n",
        "# Split data into test/train\n",
        "(train_images, train_labels), (test_images, test_labels) = fashion_mnist.load_data()\n"
      ],
      "metadata": {
        "id": "p2Rb9Z2YUyOF"
      },
      "execution_count": 22,
      "outputs": []
    },
    {
      "cell_type": "code",
      "source": [
        "# 60,000 images for training and 10,000 images for testing\n",
        "train_images.shape\n",
        "test_images.shape"
      ],
      "metadata": {
        "colab": {
          "base_uri": "https://localhost:8080/"
        },
        "id": "z5DtXHFAVVB9",
        "outputId": "ab4cb4ee-0c80-4c7f-8676-d02c3ce692dc"
      },
      "execution_count": 32,
      "outputs": [
        {
          "output_type": "execute_result",
          "data": {
            "text/plain": [
              "(10000, 28, 28)"
            ]
          },
          "metadata": {},
          "execution_count": 32
        }
      ]
    },
    {
      "cell_type": "code",
      "source": [
        "# Represents one pixel which has a value [0, 255] grayscale\n",
        "train_images[0, 23, 23]"
      ],
      "metadata": {
        "colab": {
          "base_uri": "https://localhost:8080/"
        },
        "id": "f7ev7CEkVajU",
        "outputId": "24424895-5c34-4f1a-f59b-da1d3e36237c"
      },
      "execution_count": 24,
      "outputs": [
        {
          "output_type": "execute_result",
          "data": {
            "text/plain": [
              "194"
            ]
          },
          "metadata": {},
          "execution_count": 24
        }
      ]
    },
    {
      "cell_type": "code",
      "source": [
        "# Shows the last 10 labels of the data\n",
        "train_labels[:10]"
      ],
      "metadata": {
        "colab": {
          "base_uri": "https://localhost:8080/"
        },
        "id": "b25wuL2NVzvD",
        "outputId": "14fd9560-20b7-4692-fe47-84ec6c2b4fca"
      },
      "execution_count": 25,
      "outputs": [
        {
          "output_type": "execute_result",
          "data": {
            "text/plain": [
              "array([9, 0, 0, 3, 0, 2, 7, 2, 5, 5], dtype=uint8)"
            ]
          },
          "metadata": {},
          "execution_count": 25
        }
      ]
    },
    {
      "cell_type": "code",
      "source": [
        "# Since there are 9 labels, we need 9 class names\n",
        "class_names = ['T-shirt/top', 'Trouser', 'Pullover', 'Dress', 'Coat', \n",
        "               'Sandal', 'Shirt', 'Sneaker', 'Bag', 'Ankle boot']"
      ],
      "metadata": {
        "id": "2OB0Zw47WTAm"
      },
      "execution_count": 26,
      "outputs": []
    },
    {
      "cell_type": "code",
      "source": [
        "# Show one of the images\n",
        "plt.figure()\n",
        "plt.imshow(train_images[8])\n",
        "plt.colorbar()\n",
        "plt.grid(False)\n",
        "plt.show()"
      ],
      "metadata": {
        "colab": {
          "base_uri": "https://localhost:8080/",
          "height": 430
        },
        "id": "4PmCJ7LjWs6e",
        "outputId": "bc0281af-a470-470b-d8ee-42322de12fbc"
      },
      "execution_count": 27,
      "outputs": [
        {
          "output_type": "display_data",
          "data": {
            "text/plain": [
              "<Figure size 640x480 with 2 Axes>"
            ],
            "image/png": "[encoded data removed]"
          },
          "metadata": {}
        }
      ]
    },
    {
      "cell_type": "code",
      "source": [
        "# Data preprocessing\n",
        "# Scale all pixels between 0 and 1\n",
        "train_images = train_images / 255.0\n",
        "test_images = test_images / 255.0"
      ],
      "metadata": {
        "id": "7YpCZi-HXMBW"
      },
      "execution_count": 28,
      "outputs": []
    },
    {
      "cell_type": "code",
      "source": [
        "# Building the model\n",
        "model = keras.Sequential([\n",
        "    keras.layers.Flatten(input_shape=(28, 28)),\n",
        "    keras.layers.Dense(128, activation='relu'),\n",
        "    keras.layers.Dense(10, activation='softmax')\n",
        "])"
      ],
      "metadata": {
        "id": "1pEiwvX1XiPt"
      },
      "execution_count": 29,
      "outputs": []
    },
    {
      "cell_type": "code",
      "source": [
        "# Compile the model\n",
        "model.compile(optimizer='adam', # gradient descent algo\n",
        "              loss='sparse_categorical_crossentropy',\n",
        "              metrics=['accuracy']) # output metrics"
      ],
      "metadata": {
        "id": "NAE2dzdZYhat"
      },
      "execution_count": 30,
      "outputs": []
    },
    {
      "cell_type": "code",
      "source": [
        "# Fit the model over 10 epochs with the training data\n",
        "model.fit(train_images, train_labels, epochs=1)"
      ],
      "metadata": {
        "colab": {
          "base_uri": "https://localhost:8080/"
        },
        "id": "hkvUVOXlY2Uf",
        "outputId": "61fde4be-d7ab-4706-f990-cae23a24b8af"
      },
      "execution_count": 31,
      "outputs": [
        {
          "output_type": "stream",
          "name": "stdout",
          "text": [
            "1875/1875 [==============================] - 5s 3ms/step - loss: 0.4979 - accuracy: 0.8246\n"
          ]
        },
        {
          "output_type": "execute_result",
          "data": {
            "text/plain": [
              "<keras.callbacks.History at 0x7f66e9c1c460>"
            ]
          },
          "metadata": {},
          "execution_count": 31
        }
      ]
    },
    {
      "cell_type": "code",
      "source": [
        "# Test the model on new test data\n",
        "test_loss, test_acc = model.evaluate(test_images, test_labels, verbose=1)\n",
        "\n",
        "print('Test accuracy:', test_acc)\n",
        "# Overfit since the test data accuracy < training data accuracy"
      ],
      "metadata": {
        "colab": {
          "base_uri": "https://localhost:8080/"
        },
        "id": "zK8woLMTZfZd",
        "outputId": "527a9d33-5a18-4f72-a6ea-50a839e6b664"
      },
      "execution_count": 21,
      "outputs": [
        {
          "output_type": "stream",
          "name": "stdout",
          "text": [
            "313/313 [==============================] - 0s 1ms/step - loss: 0.3433 - accuracy: 0.8811\n",
            "Test accuracy: 0.8810999989509583\n"
          ]
        }
      ]
    },
    {
      "cell_type": "code",
      "source": [
        "predictions = model.predict(test_images)\n",
        "print(np.argmax(predictions[2]))\n",
        "plt.figure()\n",
        "plt.imshow(train_images[2])\n",
        "plt.colorbar()\n",
        "plt.grid(False)\n",
        "plt.show()"
      ],
      "metadata": {
        "colab": {
          "base_uri": "https://localhost:8080/",
          "height": 471
        },
        "id": "t3WLzJ3Wa3NP",
        "outputId": "97c999e9-0f6f-4764-988f-7bc231a9faf8"
      },
      "execution_count": 42,
      "outputs": [
        {
          "output_type": "stream",
          "name": "stdout",
          "text": [
            "313/313 [==============================] - 0s 1ms/step\n",
            "1\n"
          ]
        },
        {
          "output_type": "display_data",
          "data": {
            "text/plain": [
              "<Figure size 640x480 with 2 Axes>"
            ],
            "image/png": "[encoded data removed]"
          },
          "metadata": {}
        }
      ]
    }
  ]
}